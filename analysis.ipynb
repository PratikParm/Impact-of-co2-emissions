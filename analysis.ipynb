{
 "cells": [
  {
   "cell_type": "markdown",
   "id": "344962a2-015c-4edb-aa16-6ad0de15a231",
   "metadata": {},
   "source": [
    "# Impact of $CO_2$ Emissions on Global Tempearature\n",
    "\n",
    "In this case study, we utilize the worldwide temperature and $CO_2$ concentration data to uncover the role of the increase in $CO_2$ emissions on global warming."
   ]
  },
  {
   "cell_type": "code",
   "execution_count": 1,
   "id": "a2ce6aca-0166-4afe-a1d7-16b63a49f941",
   "metadata": {},
   "outputs": [],
   "source": [
    "import numpy as np\n",
    "import pandas as pd\n",
    "\n",
    "import warnings\n",
    "warnings.filterwarnings(\"ignore\")"
   ]
  },
  {
   "cell_type": "code",
   "execution_count": 2,
   "id": "073f8651-148d-4d8c-be76-476a1328b946",
   "metadata": {},
   "outputs": [],
   "source": [
    "# Read the data\n",
    "co2_data = pd.read_csv('./carbon-emissions/carbon_emmission.csv')\n",
    "temperature = pd.read_csv('./carbon-emissions/temperature.csv')"
   ]
  },
  {
   "cell_type": "code",
   "execution_count": 3,
   "id": "5dd90f66-ff80-4b3b-941c-4a43a0f783ac",
   "metadata": {},
   "outputs": [
    {
     "data": {
      "text/html": [
       "<div>\n",
       "<style scoped>\n",
       "    .dataframe tbody tr th:only-of-type {\n",
       "        vertical-align: middle;\n",
       "    }\n",
       "\n",
       "    .dataframe tbody tr th {\n",
       "        vertical-align: top;\n",
       "    }\n",
       "\n",
       "    .dataframe thead th {\n",
       "        text-align: right;\n",
       "    }\n",
       "</style>\n",
       "<table border=\"1\" class=\"dataframe\">\n",
       "  <thead>\n",
       "    <tr style=\"text-align: right;\">\n",
       "      <th></th>\n",
       "      <th>ObjectId</th>\n",
       "      <th>Country</th>\n",
       "      <th>Date</th>\n",
       "      <th>Value</th>\n",
       "    </tr>\n",
       "  </thead>\n",
       "  <tbody>\n",
       "    <tr>\n",
       "      <th>0</th>\n",
       "      <td>1</td>\n",
       "      <td>World</td>\n",
       "      <td>1958M03</td>\n",
       "      <td>315.70</td>\n",
       "    </tr>\n",
       "    <tr>\n",
       "      <th>1</th>\n",
       "      <td>2</td>\n",
       "      <td>World</td>\n",
       "      <td>1958M04</td>\n",
       "      <td>317.45</td>\n",
       "    </tr>\n",
       "    <tr>\n",
       "      <th>2</th>\n",
       "      <td>3</td>\n",
       "      <td>World</td>\n",
       "      <td>1958M05</td>\n",
       "      <td>317.51</td>\n",
       "    </tr>\n",
       "    <tr>\n",
       "      <th>3</th>\n",
       "      <td>4</td>\n",
       "      <td>World</td>\n",
       "      <td>1958M06</td>\n",
       "      <td>317.24</td>\n",
       "    </tr>\n",
       "    <tr>\n",
       "      <th>4</th>\n",
       "      <td>5</td>\n",
       "      <td>World</td>\n",
       "      <td>1958M07</td>\n",
       "      <td>315.86</td>\n",
       "    </tr>\n",
       "  </tbody>\n",
       "</table>\n",
       "</div>"
      ],
      "text/plain": [
       "   ObjectId Country     Date   Value\n",
       "0         1   World  1958M03  315.70\n",
       "1         2   World  1958M04  317.45\n",
       "2         3   World  1958M05  317.51\n",
       "3         4   World  1958M06  317.24\n",
       "4         5   World  1958M07  315.86"
      ]
     },
     "execution_count": 3,
     "metadata": {},
     "output_type": "execute_result"
    }
   ],
   "source": [
    "co2_data.head()"
   ]
  },
  {
   "cell_type": "code",
   "execution_count": 4,
   "id": "3206b752-70b7-4ed8-8a4a-1003c19f1df0",
   "metadata": {},
   "outputs": [
    {
     "data": {
      "text/html": [
       "<div>\n",
       "<style scoped>\n",
       "    .dataframe tbody tr th:only-of-type {\n",
       "        vertical-align: middle;\n",
       "    }\n",
       "\n",
       "    .dataframe tbody tr th {\n",
       "        vertical-align: top;\n",
       "    }\n",
       "\n",
       "    .dataframe thead th {\n",
       "        text-align: right;\n",
       "    }\n",
       "</style>\n",
       "<table border=\"1\" class=\"dataframe\">\n",
       "  <thead>\n",
       "    <tr style=\"text-align: right;\">\n",
       "      <th></th>\n",
       "      <th>ObjectId</th>\n",
       "      <th>Country</th>\n",
       "      <th>ISO2</th>\n",
       "      <th>ISO3</th>\n",
       "      <th>F1961</th>\n",
       "      <th>F1962</th>\n",
       "      <th>F1963</th>\n",
       "      <th>F1964</th>\n",
       "      <th>F1965</th>\n",
       "      <th>F1966</th>\n",
       "      <th>...</th>\n",
       "      <th>F2013</th>\n",
       "      <th>F2014</th>\n",
       "      <th>F2015</th>\n",
       "      <th>F2016</th>\n",
       "      <th>F2017</th>\n",
       "      <th>F2018</th>\n",
       "      <th>F2019</th>\n",
       "      <th>F2020</th>\n",
       "      <th>F2021</th>\n",
       "      <th>F2022</th>\n",
       "    </tr>\n",
       "  </thead>\n",
       "  <tbody>\n",
       "    <tr>\n",
       "      <th>0</th>\n",
       "      <td>1</td>\n",
       "      <td>Afghanistan, Islamic Rep. of</td>\n",
       "      <td>AF</td>\n",
       "      <td>AFG</td>\n",
       "      <td>-0.113</td>\n",
       "      <td>-0.164</td>\n",
       "      <td>0.847</td>\n",
       "      <td>-0.764</td>\n",
       "      <td>-0.244</td>\n",
       "      <td>0.226</td>\n",
       "      <td>...</td>\n",
       "      <td>1.281</td>\n",
       "      <td>0.456</td>\n",
       "      <td>1.093</td>\n",
       "      <td>1.555</td>\n",
       "      <td>1.540</td>\n",
       "      <td>1.544</td>\n",
       "      <td>0.910</td>\n",
       "      <td>0.498</td>\n",
       "      <td>1.327</td>\n",
       "      <td>2.012</td>\n",
       "    </tr>\n",
       "    <tr>\n",
       "      <th>1</th>\n",
       "      <td>2</td>\n",
       "      <td>Albania</td>\n",
       "      <td>AL</td>\n",
       "      <td>ALB</td>\n",
       "      <td>0.627</td>\n",
       "      <td>0.326</td>\n",
       "      <td>0.075</td>\n",
       "      <td>-0.166</td>\n",
       "      <td>-0.388</td>\n",
       "      <td>0.559</td>\n",
       "      <td>...</td>\n",
       "      <td>1.333</td>\n",
       "      <td>1.198</td>\n",
       "      <td>1.569</td>\n",
       "      <td>1.464</td>\n",
       "      <td>1.121</td>\n",
       "      <td>2.028</td>\n",
       "      <td>1.675</td>\n",
       "      <td>1.498</td>\n",
       "      <td>1.536</td>\n",
       "      <td>1.518</td>\n",
       "    </tr>\n",
       "    <tr>\n",
       "      <th>2</th>\n",
       "      <td>3</td>\n",
       "      <td>Algeria</td>\n",
       "      <td>DZ</td>\n",
       "      <td>DZA</td>\n",
       "      <td>0.164</td>\n",
       "      <td>0.114</td>\n",
       "      <td>0.077</td>\n",
       "      <td>0.250</td>\n",
       "      <td>-0.100</td>\n",
       "      <td>0.433</td>\n",
       "      <td>...</td>\n",
       "      <td>1.192</td>\n",
       "      <td>1.690</td>\n",
       "      <td>1.121</td>\n",
       "      <td>1.757</td>\n",
       "      <td>1.512</td>\n",
       "      <td>1.210</td>\n",
       "      <td>1.115</td>\n",
       "      <td>1.926</td>\n",
       "      <td>2.330</td>\n",
       "      <td>1.688</td>\n",
       "    </tr>\n",
       "    <tr>\n",
       "      <th>3</th>\n",
       "      <td>4</td>\n",
       "      <td>American Samoa</td>\n",
       "      <td>AS</td>\n",
       "      <td>ASM</td>\n",
       "      <td>0.079</td>\n",
       "      <td>-0.042</td>\n",
       "      <td>0.169</td>\n",
       "      <td>-0.140</td>\n",
       "      <td>-0.562</td>\n",
       "      <td>0.181</td>\n",
       "      <td>...</td>\n",
       "      <td>1.257</td>\n",
       "      <td>1.170</td>\n",
       "      <td>1.009</td>\n",
       "      <td>1.539</td>\n",
       "      <td>1.435</td>\n",
       "      <td>1.189</td>\n",
       "      <td>1.539</td>\n",
       "      <td>1.430</td>\n",
       "      <td>1.268</td>\n",
       "      <td>1.256</td>\n",
       "    </tr>\n",
       "    <tr>\n",
       "      <th>4</th>\n",
       "      <td>5</td>\n",
       "      <td>Andorra, Principality of</td>\n",
       "      <td>AD</td>\n",
       "      <td>AND</td>\n",
       "      <td>0.736</td>\n",
       "      <td>0.112</td>\n",
       "      <td>-0.752</td>\n",
       "      <td>0.308</td>\n",
       "      <td>-0.490</td>\n",
       "      <td>0.415</td>\n",
       "      <td>...</td>\n",
       "      <td>0.831</td>\n",
       "      <td>1.946</td>\n",
       "      <td>1.690</td>\n",
       "      <td>1.990</td>\n",
       "      <td>1.925</td>\n",
       "      <td>1.919</td>\n",
       "      <td>1.964</td>\n",
       "      <td>2.562</td>\n",
       "      <td>1.533</td>\n",
       "      <td>3.243</td>\n",
       "    </tr>\n",
       "  </tbody>\n",
       "</table>\n",
       "<p>5 rows × 66 columns</p>\n",
       "</div>"
      ],
      "text/plain": [
       "   ObjectId                       Country ISO2 ISO3  F1961  F1962  F1963  \\\n",
       "0         1  Afghanistan, Islamic Rep. of   AF  AFG -0.113 -0.164  0.847   \n",
       "1         2                       Albania   AL  ALB  0.627  0.326  0.075   \n",
       "2         3                       Algeria   DZ  DZA  0.164  0.114  0.077   \n",
       "3         4                American Samoa   AS  ASM  0.079 -0.042  0.169   \n",
       "4         5      Andorra, Principality of   AD  AND  0.736  0.112 -0.752   \n",
       "\n",
       "   F1964  F1965  F1966  ...  F2013  F2014  F2015  F2016  F2017  F2018  F2019  \\\n",
       "0 -0.764 -0.244  0.226  ...  1.281  0.456  1.093  1.555  1.540  1.544  0.910   \n",
       "1 -0.166 -0.388  0.559  ...  1.333  1.198  1.569  1.464  1.121  2.028  1.675   \n",
       "2  0.250 -0.100  0.433  ...  1.192  1.690  1.121  1.757  1.512  1.210  1.115   \n",
       "3 -0.140 -0.562  0.181  ...  1.257  1.170  1.009  1.539  1.435  1.189  1.539   \n",
       "4  0.308 -0.490  0.415  ...  0.831  1.946  1.690  1.990  1.925  1.919  1.964   \n",
       "\n",
       "   F2020  F2021  F2022  \n",
       "0  0.498  1.327  2.012  \n",
       "1  1.498  1.536  1.518  \n",
       "2  1.926  2.330  1.688  \n",
       "3  1.430  1.268  1.256  \n",
       "4  2.562  1.533  3.243  \n",
       "\n",
       "[5 rows x 66 columns]"
      ]
     },
     "execution_count": 4,
     "metadata": {},
     "output_type": "execute_result"
    }
   ],
   "source": [
    "temperature.head()"
   ]
  },
  {
   "cell_type": "code",
   "execution_count": 5,
   "id": "066deb82-ef79-4541-9bb6-7d2dc806132c",
   "metadata": {},
   "outputs": [],
   "source": [
    "# Extracting values and calculating stats\n",
    "temperature_values = temperature.filter(regex='^F').stack()\n",
    "temperature_stats = {'mean': temperature_values.mean(),\n",
    "                    'median': temperature_values.median(),\n",
    "                    'std': temperature_values.std()}\n",
    "\n",
    "co2_values = co2_data['Value']\n",
    "co2_stats = {'mean': co2_values.mean(),\n",
    "            'median': co2_values.median(),\n",
    "            'std': co2_values.std()}"
   ]
  },
  {
   "cell_type": "code",
   "execution_count": 6,
   "id": "1ba39163-dc4b-4f3a-99fb-4252e76fa827",
   "metadata": {},
   "outputs": [
    {
     "data": {
      "text/plain": [
       "({'mean': np.float64(0.5377713483146068),\n",
       "  'median': np.float64(0.47),\n",
       "  'std': np.float64(0.6553262417685113)},\n",
       " {'mean': np.float64(180.71615286624203),\n",
       "  'median': np.float64(313.835),\n",
       "  'std': np.float64(180.5547064041616)})"
      ]
     },
     "execution_count": 6,
     "metadata": {},
     "output_type": "execute_result"
    }
   ],
   "source": [
    "temperature_stats, co2_stats"
   ]
  },
  {
   "cell_type": "markdown",
   "id": "546b455a-735a-4498-b937-82906bd08c5d",
   "metadata": {},
   "source": [
    "# Time-series Analysis"
   ]
  },
  {
   "cell_type": "markdown",
   "id": "11905ae6-ba21-46ca-ac8e-40622a4c300c",
   "metadata": {},
   "source": [
    "## Scatter plot"
   ]
  },
  {
   "cell_type": "code",
   "execution_count": 7,
   "id": "f6c6b7df-621b-413f-9075-4fc4d7321385",
   "metadata": {},
   "outputs": [
    {
     "data": {
      "image/png": "[encoded data removed]",
      "text/plain": [
       "<Figure size 640x480 with 2 Axes>"
      ]
     },
     "metadata": {},
     "output_type": "display_data"
    }
   ],
   "source": [
    "import matplotlib.pyplot as plt\n",
    "from scipy.stats import linregress\n",
    "\n",
    "# temperature: averaging across countries for each year\n",
    "temperature_years = temperature.filter(regex='^F').mean(axis=0)\n",
    "temperature_years.index = temperature_years.index.str.replace('F', '').astype(int)\n",
    "\n",
    "## Temperature trendline\n",
    "temp_trend = linregress(temperature_years.index, temperature_years.values)\n",
    "temp_trend_line = temp_trend.slope * temperature_years.index + temp_trend.intercept\n",
    "\n",
    "# CO2: parsing year and averaging monthly data\n",
    "co2_data['Year'] = co2_data['Date'].str[:4].astype(int)\n",
    "co2_yearly = co2_data.groupby('Year')['Value'].mean()\n",
    "\n",
    "## CO2 trendline\n",
    "co2_trend = linregress(co2_yearly.index, co2_yearly.values)\n",
    "co2_trend_line = co2_trend.slope * co2_yearly.index + co2_trend.intercept\n",
    "\n",
    "fig, ax1 = plt.subplots() \n",
    "ax2 = ax1.twinx()\n",
    "\n",
    "# Temperature over the years\n",
    "color = 'tab:blue'\n",
    "ax1.scatter(temperature_years.index, temperature_years)\n",
    "ln1 = ax1.plot(temperature_years.index, temp_trend_line, ls='--', alpha=0.5, color=color, label='trendline (temperature)')\n",
    "ax1.set_xlabel('Year')\n",
    "ax1.set_ylabel(r'Average Temperature ($\\degree$C)')\n",
    "ax1.tick_params(axis ='y', labelcolor = color)\n",
    "\n",
    "# CO2 concentration over the years\n",
    "color = 'tab:red'\n",
    "ax2.plot(co2_yearly.index, co2_yearly, marker='o', color=color)\n",
    "ln2 = ax2.plot(co2_yearly.index, co2_trend_line, ls='--', alpha=0.5, color=color, label='trendline (CO2)')\n",
    "ax2.set_xlabel('Year')\n",
    "ax2.set_ylabel('Average CO2 Concentration (ppm)')\n",
    "ax2.tick_params(axis ='y', labelcolor = color)\n",
    "\n",
    "lns = ln1 + ln2\n",
    "labs = [l.get_label() for l in lns]\n",
    "ax1.legend(lns, labs, loc='upper center')\n",
    "plt.savefig('./plots/comb_plot.png')"
   ]
  },
  {
   "cell_type": "markdown",
   "id": "cc544aec-0a61-4aa8-aa20-451475994b26",
   "metadata": {},
   "source": [
    "## Correlation Matrix"
   ]
  },
  {
   "cell_type": "code",
   "execution_count": 8,
   "id": "8a894c57-1f68-4ee5-a6d0-07b6f1ed09a3",
   "metadata": {},
   "outputs": [
    {
     "data": {
      "text/html": [
       "<style type=\"text/css\">\n",
       "#T_93002_row0_col0, #T_93002_row1_col1 {\n",
       "  background-color: #b40426;\n",
       "  color: #f1f1f1;\n",
       "}\n",
       "#T_93002_row0_col1, #T_93002_row1_col0 {\n",
       "  background-color: #3b4cc0;\n",
       "  color: #f1f1f1;\n",
       "}\n",
       "</style>\n",
       "<table id=\"T_93002\">\n",
       "  <thead>\n",
       "    <tr>\n",
       "      <th class=\"blank level0\" >&nbsp;</th>\n",
       "      <th id=\"T_93002_level0_col0\" class=\"col_heading level0 col0\" >Temperature Change</th>\n",
       "      <th id=\"T_93002_level0_col1\" class=\"col_heading level0 col1\" >CO2 Concentration</th>\n",
       "    </tr>\n",
       "  </thead>\n",
       "  <tbody>\n",
       "    <tr>\n",
       "      <th id=\"T_93002_level0_row0\" class=\"row_heading level0 row0\" >Temperature Change</th>\n",
       "      <td id=\"T_93002_row0_col0\" class=\"data row0 col0\" >1.000000</td>\n",
       "      <td id=\"T_93002_row0_col1\" class=\"data row0 col1\" >0.955428</td>\n",
       "    </tr>\n",
       "    <tr>\n",
       "      <th id=\"T_93002_level0_row1\" class=\"row_heading level0 row1\" >CO2 Concentration</th>\n",
       "      <td id=\"T_93002_row1_col0\" class=\"data row1 col0\" >0.955428</td>\n",
       "      <td id=\"T_93002_row1_col1\" class=\"data row1 col1\" >1.000000</td>\n",
       "    </tr>\n",
       "  </tbody>\n",
       "</table>\n"
      ],
      "text/plain": [
       "<pandas.io.formats.style.Styler at 0x22c7fdf1310>"
      ]
     },
     "execution_count": 8,
     "metadata": {},
     "output_type": "execute_result"
    }
   ],
   "source": [
    "# correlation heatmap\n",
    "merged_data = pd.DataFrame({\n",
    "    \"Temperature Change\": temperature_years,\n",
    "    \"CO2 Concentration\": co2_yearly\n",
    "}).dropna()\n",
    "\n",
    "merged_data.corr().style.background_gradient(cmap='coolwarm')"
   ]
  },
  {
   "cell_type": "markdown",
   "id": "3da7ee36-dcd8-4352-9125-e4f510cc375c",
   "metadata": {},
   "source": [
    "## Temperature vs CO2 Concentration"
   ]
  },
  {
   "cell_type": "code",
   "execution_count": 9,
   "id": "1cf4a28a-b306-452d-8cee-cb74699077c8",
   "metadata": {},
   "outputs": [
    {
     "data": {
      "text/plain": [
       "<Figure size 800x600 with 0 Axes>"
      ]
     },
     "metadata": {},
     "output_type": "display_data"
    },
    {
     "data": {
      "image/png": "[encoded data removed]",
      "text/plain": [
       "<Figure size 640x480 with 1 Axes>"
      ]
     },
     "metadata": {},
     "output_type": "display_data"
    }
   ],
   "source": [
    "trend = linregress(merged_data.iloc[:,1], merged_data.iloc[:,0])\n",
    "trendline = trend.slope * merged_data.iloc[:, 1] + trend.intercept\n",
    "\n",
    "plt.figure(figsize=(8, 6))\n",
    "merged_data.plot.scatter(x='CO2 Concentration', y='Temperature Change')\n",
    "plt.plot(merged_data.iloc[:, 1], trendline, ls='--', alpha=0.5, label='Trendline')\n",
    "plt.xlabel('CO2 Concentration (ppm)')\n",
    "plt.ylabel('Temperature Change ($\\degree$C)')\n",
    "plt.grid()\n",
    "plt.legend()\n",
    "plt.savefig('./plots/temp_vs_co2.png')"
   ]
  },
  {
   "cell_type": "markdown",
   "id": "f1665ff7-1ed6-41b2-82e6-231be6bb393e",
   "metadata": {},
   "source": [
    "The scatter plot clearly shows a positive linear correlation between CO2 concentration and temperature."
   ]
  },
  {
   "cell_type": "markdown",
   "id": "05c9a9b2-2821-4b40-8225-f2263571f496",
   "metadata": {},
   "source": [
    "## Seasonal Variations"
   ]
  },
  {
   "cell_type": "code",
   "execution_count": 10,
   "id": "48f761af-9baf-47f4-9118-6f7e0f09212b",
   "metadata": {},
   "outputs": [
    {
     "data": {
      "image/png": "[encoded data removed]",
      "text/plain": [
       "<Figure size 800x600 with 1 Axes>"
      ]
     },
     "metadata": {},
     "output_type": "display_data"
    }
   ],
   "source": [
    "# seasonal variations in CO2 concentrations\n",
    "co2_data['Month'] = co2_data['Date'].str[-2:].astype(int)\n",
    "co2_monthly = co2_data.groupby('Month')['Value'].mean()\n",
    "\n",
    "plt.figure(figsize=(8, 6))\n",
    "co2_monthly.plot(marker='o')\n",
    "plt.xticks(range(1, 13))\n",
    "plt.xlabel('Month')\n",
    "plt.ylabel('Average CO2 Concentration (ppm)')\n",
    "plt.grid()\n",
    "plt.title('Seasonal Variantions in CO2 Concentrations')\n",
    "plt.savefig('./plots/co2_seasonal_variations.png')"
   ]
  },
  {
   "cell_type": "markdown",
   "id": "c146a246-d5be-4e68-819e-75a0ebef7e8b",
   "metadata": {},
   "source": [
    "## Geographical Variation"
   ]
  },
  {
   "cell_type": "code",
   "execution_count": 11,
   "id": "e1671463-a54d-4814-816b-26e0887dc31d",
   "metadata": {},
   "outputs": [
    {
     "data": {
      "text/plain": [
       "0      2.125\n",
       "1      0.891\n",
       "2      1.524\n",
       "3      1.177\n",
       "4      2.507\n",
       "       ...  \n",
       "220    1.338\n",
       "221    1.183\n",
       "222      NaN\n",
       "223    0.458\n",
       "224   -0.757\n",
       "Length: 225, dtype: float64"
      ]
     },
     "execution_count": 11,
     "metadata": {},
     "output_type": "execute_result"
    }
   ],
   "source": [
    "countries = temperature['Country']\n",
    "temperature_change = temperature.filter(regex='^F').iloc[:, -1] - temperature.filter(regex='^F').iloc[:, 0]\n",
    "temperature_change"
   ]
  },
  {
   "cell_type": "code",
   "execution_count": 12,
   "id": "4dd8230a-b620-45b4-ad6e-8f1ad37a9b8d",
   "metadata": {
    "jupyter": {
     "source_hidden": true
    }
   },
   "outputs": [],
   "source": [
    "country_codes = {\n",
    "    'Afghanistan, Islamic Rep. of': 'AFG',\n",
    "    'Albania': 'ALB',\n",
    "    'Algeria': 'DZA',\n",
    "    'American Samoa': 'ASM',\n",
    "    'Andorra, Principality of': 'AND',\n",
    "    'Angola': 'AGO',\n",
    "    'Anguilla': 'AIA',\n",
    "    'Antigua and Barbuda': 'ATG',\n",
    "    'Argentina': 'ARG',\n",
    "    'Armenia, Rep. of': 'ARM',\n",
    "    'Aruba, Kingdom of the Netherlands': 'ABW',\n",
    "    'Australia': 'AUS',\n",
    "    'Austria': 'AUT',\n",
    "    'Azerbaijan, Rep. of': 'AZE',\n",
    "    'Bahamas, The': 'BHS',\n",
    "    'Bahrain, Kingdom of': 'BHR',\n",
    "    'Bangladesh': 'BGD',\n",
    "    'Barbados': 'BRB',\n",
    "    'Belarus, Rep. of': 'BLR',\n",
    "    'Belgium': 'BEL',\n",
    "    'Belize': 'BLZ',\n",
    "    'Benin': 'BEN',\n",
    "    'Bhutan': 'BTN',\n",
    "    'Bolivia': 'BOL',\n",
    "    'Bosnia and Herzegovina': 'BIH',\n",
    "    'Botswana': 'BWA',\n",
    "    'Brazil': 'BRA',\n",
    "    'British Virgin Islands': 'VGB',\n",
    "    'Brunei Darussalam': 'BRN',\n",
    "    'Bulgaria': 'BGR',\n",
    "    'Burkina Faso': 'BFA',\n",
    "    'Burundi': 'BDI',\n",
    "    'Cabo Verde': 'CPV',\n",
    "    'Cambodia': 'KHM',\n",
    "    'Cameroon': 'CMR',\n",
    "    'Canada': 'CAN',\n",
    "    'Cayman Islands': 'CYM',\n",
    "    'Central African Rep.': 'CAF',\n",
    "    'Chad': 'TCD',\n",
    "    'Chile': 'CHL',\n",
    "    'China, P.R.: Hong Kong': 'HKG',\n",
    "    'China, P.R.: Macao': 'MAC',\n",
    "    'China, P.R.: Mainland': 'CHN',\n",
    "    'Colombia': 'COL',\n",
    "    'Comoros, Union of the': 'COM',\n",
    "    'Congo, Dem. Rep. of the': 'COD',\n",
    "    'Congo, Rep. of': 'COG',\n",
    "    'Cook Islands': 'COK',\n",
    "    'Costa Rica': 'CRI',\n",
    "    'Croatia, Rep. of': 'HRV',\n",
    "    'Cuba': 'CUB',\n",
    "    'Cyprus': 'CYP',\n",
    "    'Czech Rep.': 'CZE',\n",
    "    'Denmark': 'DNK',\n",
    "    'Djibouti': 'DJI',\n",
    "    'Dominica': 'DMA',\n",
    "    'Dominican Rep.': 'DOM',\n",
    "    'Ecuador': 'ECU',\n",
    "    'Egypt, Arab Rep. of': 'EGY',\n",
    "    'El Salvador': 'SLV',\n",
    "    'Equatorial Guinea, Rep. of': 'GNQ',\n",
    "    'Eritrea, The State of': 'ERI',\n",
    "    'Estonia, Rep. of': 'EST',\n",
    "    'Eswatini, Kingdom of': 'SWZ',\n",
    "    'Ethiopia, The Federal Dem. Rep. of': 'ETH',\n",
    "    'Falkland Islands (Malvinas)': 'FLK',\n",
    "    'Faroe Islands': 'FRO',\n",
    "    'Fiji, Rep. of': 'FJI',\n",
    "    'Finland': 'FIN',\n",
    "    'France': 'FRA',\n",
    "    'French Polynesia': 'PYF',\n",
    "    'Gabon': 'GAB',\n",
    "    'Gambia, The': 'GMB',\n",
    "    'Georgia': 'GEO',\n",
    "    'Germany': 'DEU',\n",
    "    'Ghana': 'GHA',\n",
    "    'Gibraltar': 'GIB',\n",
    "    'Greece': 'GRC',\n",
    "    'Greenland': 'GRL',\n",
    "    'Grenada': 'GRD',\n",
    "    'Guadeloupe': 'GLP',\n",
    "    'Guatemala': 'GTM',\n",
    "    'Guinea': 'GIN',\n",
    "    'Guinea-Bissau': 'GNB',\n",
    "    'Guyana': 'GUY',\n",
    "    'Haiti': 'HTI',\n",
    "    'Holy See': 'VAT',\n",
    "    'Honduras': 'HND',\n",
    "    'Hungary': 'HUN',\n",
    "    'Iceland': 'ISL',\n",
    "    'India': 'IND',\n",
    "    'Indonesia': 'IDN',\n",
    "    'Iran, Islamic Rep. of': 'IRN',\n",
    "    'Iraq': 'IRQ',\n",
    "    'Ireland': 'IRL',\n",
    "    'Isle of Man': 'IMN',\n",
    "    'Israel': 'ISR',\n",
    "    'Italy': 'ITA',\n",
    "    'Jamaica': 'JAM',\n",
    "    'Japan': 'JPN',\n",
    "    'Jordan': 'JOR',\n",
    "    'Kazakhstan, Rep. of': 'KAZ',\n",
    "    'Kenya': 'KEN',\n",
    "    'Kiribati': 'KIR',\n",
    "    \"Korea, Dem. People's Rep. of\": 'PRK',\n",
    "    'Korea, Rep. of': 'KOR',\n",
    "    'Kuwait': 'KWT',\n",
    "    'Kyrgyz Rep.': 'KGZ',\n",
    "    \"Lao People's Dem. Rep.\": 'LAO',\n",
    "    'Latvia': 'LVA',\n",
    "    'Lebanon': 'LBN',\n",
    "    'Lesotho, Kingdom of': 'LSO',\n",
    "    'Liberia': 'LBR',\n",
    "    'Libya': 'LBY',\n",
    "    'Liechtenstein': 'LIE',\n",
    "    'Lithuania': 'LTU',\n",
    "    'Luxembourg': 'LUX',\n",
    "    'Madagascar, Rep. of': 'MDG',\n",
    "    'Malawi': 'MWI',\n",
    "    'Malaysia': 'MYS',\n",
    "    'Maldives': 'MDV',\n",
    "    'Mali': 'MLI',\n",
    "    'Malta': 'MLT',\n",
    "    'Marshall Islands, Rep. of the': 'MHL',\n",
    "    'Martinique': 'MTQ',\n",
    "    'Mauritania, Islamic Rep. of': 'MRT',\n",
    "    'Mauritius': 'MUS',\n",
    "    'Mayotte': 'MYT',\n",
    "    'Mexico': 'MEX',\n",
    "    'Micronesia, Federated States of': 'FSM',\n",
    "    'Moldova, Rep. of': 'MDA',\n",
    "    'Monaco': 'MCO',\n",
    "    'Mongolia': 'MNG',\n",
    "    'Montenegro': 'MNE',\n",
    "    'Montserrat': 'MSR',\n",
    "    'Morocco': 'MAR',\n",
    "    'Mozambique, Rep. of': 'MOZ',\n",
    "    'Myanmar': 'MMR',\n",
    "    'Namibia': 'NAM',\n",
    "    'Nauru, Rep. of': 'NRU',\n",
    "    'Nepal': 'NPL',\n",
    "    'Netherlands, The': 'NLD',\n",
    "    'New Caledonia': 'NCL',\n",
    "    'New Zealand': 'NZL',\n",
    "    'Nicaragua': 'NIC',\n",
    "    'Niger': 'NER',\n",
    "    'Nigeria': 'NGA',\n",
    "    'Niue': 'NIU',\n",
    "    'Norfolk Island': 'NFK',\n",
    "    'North Macedonia, Republic of': 'MKD',\n",
    "    'Norway': 'NOR',\n",
    "    'Oman': 'OMN',\n",
    "    'Pakistan': 'PAK',\n",
    "    'Palau, Rep. of': 'PLW',\n",
    "    'Panama': 'PAN',\n",
    "    'Papua New Guinea': 'PNG',\n",
    "    'Paraguay': 'PRY',\n",
    "    'Peru': 'PER',\n",
    "    'Philippines': 'PHL',\n",
    "    'Pitcairn Islands': 'PCN',\n",
    "    'Poland, Rep. of': 'POL',\n",
    "    'Portugal': 'PRT',\n",
    "    'Puerto Rico': 'PRI',\n",
    "    'Qatar': 'QAT',\n",
    "    'Romania': 'ROU',\n",
    "    'Russian Federation': 'RUS',\n",
    "    'Rwanda': 'RWA',\n",
    "    'Saint Helena': 'SHN',\n",
    "    'Saint Pierre and Miquelon': 'SPM',\n",
    "    'Samoa': 'WSM',\n",
    "    'San Marino, Rep. of': 'SMR',\n",
    "    'São Tomé and Príncipe, Dem. Rep. of': 'STP',\n",
    "    'Saudi Arabia': 'SAU',\n",
    "    'Senegal': 'SEN',\n",
    "    'Serbia, Rep. of': 'SRB',\n",
    "    'Seychelles': 'SYC',\n",
    "    'Sierra Leone': 'SLE',\n",
    "    'Singapore': 'SGP',\n",
    "    'Slovak Rep.': 'SVK',\n",
    "    'Slovenia, Rep. of': 'SVN',\n",
    "    'Solomon Islands': 'SLB',\n",
    "    'Somalia': 'SOM',\n",
    "    'South Africa': 'ZAF',\n",
    "    'South Sudan, Rep. of': 'SSD',\n",
    "    'Spain': 'ESP',\n",
    "    'Sri Lanka': 'LKA',\n",
    "    'St. Kitts and Nevis': 'KNA',\n",
    "    'St. Lucia': 'LCA',\n",
    "    'St. Vincent and the Grenadines': 'VCT',\n",
    "    'Sudan': 'SDN',\n",
    "    'Suriname': 'SUR',\n",
    "    'Sweden': 'SWE',\n",
    "    'Switzerland': 'CHE',\n",
    "    'Syrian Arab Rep.': 'SYR',\n",
    "    'Taiwan Province of China': 'TWN',\n",
    "    'Tajikistan, Rep. of': 'TJK',\n",
    "    'Tanzania, United Rep. of': 'TZA',\n",
    "    'Thailand': 'THA',\n",
    "    'Timor-Leste, Dem. Rep. of': 'TLS',\n",
    "    'Togo': 'TGO',\n",
    "    'Tokelau': 'TKL',\n",
    "    'Tonga': 'TON',\n",
    "    'Trinidad and Tobago': 'TTO',\n",
    "    'Tunisia': 'TUN',\n",
    "    'Turkmenistan': 'TKM',\n",
    "    'Turks and Caicos Islands': 'TCA',\n",
    "    'Tuvalu': 'TUV',\n",
    "    'Uganda': 'UGA',\n",
    "    'Ukraine': 'UKR',\n",
    "    'United Arab Emirates': 'ARE',\n",
    "    'United Kingdom': 'GBR',\n",
    "    'United States': 'USA',\n",
    "    'United States Virgin Islands': 'VIR',\n",
    "    'Uruguay': 'URY',\n",
    "    'Uzbekistan, Rep. of': 'UZB',\n",
    "    'Vanuatu': 'VUT',\n",
    "    'Venezuela, Rep. Bolivariana de': 'VEN',\n",
    "    'Vietnam': 'VNM',\n",
    "    'Wallis and Futuna Islands': 'WLF',\n",
    "    'West Bank and Gaza': 'WBG',\n",
    "    'Western Sahara': 'ESH',\n",
    "    'World': 'WLD',\n",
    "    'Yemen, Rep. of': 'YEM',\n",
    "    'Zambia': 'ZMB',\n",
    "    'Zimbabwe': 'ZWE',\n",
    "}"
   ]
  },
  {
   "cell_type": "code",
   "execution_count": null,
   "id": "15887115-818e-4539-a02c-459070936126",
   "metadata": {},
   "outputs": [],
   "source": [
    "import plotly.express as px\n",
    "import pandas as pd\n",
    "\n",
    "# Example data\n",
    "df = pd.DataFrame({\n",
    "    'country': countries,\n",
    "    'Temperature change': temperature_change,\n",
    "    'country_codes': country_codes.values()\n",
    "})\n",
    "\n",
    "# Create the choropleth map\n",
    "fig = px.choropleth(df, \n",
    "                    locations=\"country_codes\", \n",
    "                    color=\"Temperature change\", \n",
    "                    hover_name=\"country\", \n",
    "                    color_continuous_scale=px.colors.sequential.thermal,\n",
    "                    projection=\"equirectangular\",\n",
    "                    title=\"Temperature Change (1961-2022)\")\n",
    "\n",
    "# Decrease padding (adjust margins)\n",
    "fig.update_layout(\n",
    "    width=800,  # Set width in pixels\n",
    "    height=600,  # Set height in pixels\n",
    "    margin={\"l\": 10, \"r\": 10, \"t\": 40, \"b\": 40}  # Decrease left, right, top, and bottom margins\n",
    ")\n",
    "\n",
    "# Shift the colorbar position to horizontal\n",
    "fig.update_layout(\n",
    "    coloraxis_colorbar=dict(\n",
    "        orientation=\"h\",  # Horizontal colorbar\n",
    "        ypad=0,     # Padding above the colorbar\n",
    "        x=0.5,             # Position the colorbar at the center\n",
    "        y=-0.05,\n",
    "        xanchor=\"center\" ,  # Align the colorbar with the center\n",
    "        title=r'Temperature Change',\n",
    "        title_side='top'\n",
    "    )\n",
    ")\n",
    "\n",
    "# Show and save the map\n",
    "fig.write_image('./plots/worldmap_temperature_change.png')\n",
    "fig.show()\n"
   ]
  },
  {
   "cell_type": "code",
   "execution_count": null,
   "id": "2796a821-9bc2-43fe-a754-b9a6085acea8",
   "metadata": {},
   "outputs": [],
   "source": [
    "px.choropleth?"
   ]
  },
  {
   "cell_type": "markdown",
   "id": "bd3a7197-e35f-4ef3-984c-a62eb97167bf",
   "metadata": {},
   "source": [
    "## Granger Causality Test\n",
    "\n",
    "Granger Causality test is a statistical time series test to identify the predictive power of one time series (in this case the yearly CO2 trends) in predicting the value of the other (in this case, global average temperature trends).\n",
    "\n",
    "For our purpose, we will use the Granger p-value to make an argument about whether increase or decrease in CO2 concentration 'Granger cause' the subsequent change in the global temperatures."
   ]
  },
  {
   "cell_type": "code",
   "execution_count": null,
   "id": "38f7d32a-63f8-4908-81ee-ab5458083eca",
   "metadata": {},
   "outputs": [],
   "source": [
    "from scipy.stats import pearsonr, spearmanr\n",
    "from statsmodels.tsa.stattools import grangercausalitytests\n",
    "\n",
    "# pearson and spearman correlation coefficients\n",
    "pearson_corr, _ = pearsonr(merged_data[\"CO2 Concentration\"], merged_data[\"Temperature Change\"])\n",
    "spearman_corr, _ = spearmanr(merged_data[\"CO2 Concentration\"], merged_data[\"Temperature Change\"])\n",
    "\n",
    "# granger causality test\n",
    "granger_data = merged_data.diff().dropna()  # first differencing to make data stationary\n",
    "granger_results = grangercausalitytests(granger_data, maxlag=3, verbose=False)\n",
    "\n",
    "# extracting p-values for causality\n",
    "granger_p_values = {f\"Lag {lag}\": round(results[0]['ssr_chi2test'][1], 4)\n",
    "                    for lag, results in granger_results.items()}\n",
    "\n",
    "pearson_corr, spearman_corr, granger_p_values"
   ]
  },
  {
   "cell_type": "markdown",
   "id": "f820c544-02da-488d-a62e-5a92d9c55f87",
   "metadata": {},
   "source": [
    "The pearson and spearman coefficients suggest a highly significant positive relationship between temperature and CO2 concentrations. From the Granger's causality test, Lag 1 is slightly above the threshold of 0.05, which suggests weak evidence of causality. While Lag 2 and Lag 3 suggest no significant evidence of causality. Thus, while there is a strong correlation between temeperature and CO2 concentration, Granger causality test doesn't give significant evidence of causality between the two."
   ]
  },
  {
   "cell_type": "markdown",
   "id": "7a0187ce-af6f-4905-8f63-9db9fb98a094",
   "metadata": {},
   "source": [
    "## Lagged Effects Analysis\n",
    "\n",
    "Now we will analyse if past CO2 concentrations cause the current temperature rises. For this, we will shift the CO2 time series by 1, 2, and 3 years and analyse if these shifted series are able to predict the temperature anomalies we see today."
   ]
  },
  {
   "cell_type": "code",
   "execution_count": null,
   "id": "f0a800d5-41d3-444d-913b-2049136b8e9f",
   "metadata": {},
   "outputs": [],
   "source": [
    "import statsmodels.api as sm\n",
    "\n",
    "# creating lagged CO2 data to investigate lagged effects\n",
    "merged_data['CO2 Lag 1'] = merged_data[\"CO2 Concentration\"].shift(1)\n",
    "merged_data['CO2 Lag 2'] = merged_data[\"CO2 Concentration\"].shift(2)\n",
    "merged_data['CO2 Lag 3'] = merged_data[\"CO2 Concentration\"].shift(3)\n",
    "\n",
    "# dropping rows with NaN due to lags\n",
    "lagged_data = merged_data.dropna()\n",
    "\n",
    "X = lagged_data[['CO2 Concentration', 'CO2 Lag 1', 'CO2 Lag 2', 'CO2 Lag 3']]\n",
    "y = lagged_data['Temperature Change']\n",
    "X = sm.add_constant(X)  # adding a constant for intercept\n",
    "\n",
    "model = sm.OLS(y, X).fit()\n",
    "\n",
    "model_summary = model.summary()\n",
    "model_summary"
   ]
  },
  {
   "cell_type": "markdown",
   "id": "5c9d8755-3e01-40fd-99ac-e732d7294983",
   "metadata": {},
   "source": [
    "From the results, we see that coefficient of CO2 concentration is 0.32 (> 0.05) and thus is statistically significant. Interestingly, CO2 Lag 1 has coefficient -0.29 which is also statistically significant but negative. CO2 Lag 2 and Lag 3 don't show any significance."
   ]
  },
  {
   "cell_type": "markdown",
   "id": "9765a368-77ca-4a84-be24-96e21d5f9b33",
   "metadata": {},
   "source": [
    "## What if Analysis\n",
    "\n",
    "Looking at the relationship of temperature vs CO2 concentration, we can fit a linear regression model to the data, and carry out a what-if analysis of the impact on the temperature from the change in CO2 concentration"
   ]
  },
  {
   "cell_type": "code",
   "execution_count": null,
   "id": "d815dbbe-c6b7-44b3-9c30-a7f512e1e2ca",
   "metadata": {},
   "outputs": [],
   "source": [
    "from sklearn.linear_model import LinearRegression\n",
    "\n",
    "# Preparing data\n",
    "X = merged_data[[\"CO2 Concentration\"]].values  # CO₂ concentration as input\n",
    "y = merged_data[\"Temperature Change\"].values   # temperature change as target\n",
    "\n",
    "temp_lr_model = LinearRegression()\n",
    "temp_lr_model.fit(X, y)\n",
    "\n",
    "# function to simulate \"what-if\" scenarios\n",
    "def simulate_temperature_change(co2_percentage_change):\n",
    "    # Calculate new CO2 concentrations\n",
    "    current_mean_co2 = merged_data[\"CO2 Concentration\"].mean()\n",
    "    \n",
    "    new_co2 = current_mean_co2 * (1 + co2_percentage_change / 100)\n",
    "\n",
    "    # predict temperature change\n",
    "    predicted_temp = temp_lr_model.predict([[new_co2]])\n",
    "    return predicted_temp[0]\n",
    "\n",
    "# simulating scenarios\n",
    "scenarios = {\n",
    "    \"Increase CO2 by 10%\": simulate_temperature_change(10),\n",
    "    \"Decrease CO2 by 10%\": simulate_temperature_change(-10),\n",
    "    \"Increase CO2 by 20%\": simulate_temperature_change(20),\n",
    "    \"Decrease CO2 by 20%\": simulate_temperature_change(-20),\n",
    "}\n",
    "\n",
    "print(f'Current average global temperature: {merged_data[\"Temperature Change\"].mean():.2f} celcius')\n",
    "print(f'Current average global CO2 concentration: {merged_data[\"CO2 Concentration\"].mean():.2f} ppm')\n",
    "scenarios"
   ]
  },
  {
   "cell_type": "markdown",
   "id": "eda6db70-8eb4-48f3-b0ff-eb86807bb1b1",
   "metadata": {},
   "source": [
    "From the analysis, we see that if the CO2 temperature increases by 10% of the current average CO2 cooncentration, the average global temperature will rise from 0.51 $\\degree C$ to 1.08 $\\degree C$. While, if the CO2 concentration increases by 20%, the global average temperature reaches 1.66 $\\degree C$. If the CO2 concentration instead decreases by 10% or 20%, the global average temperature decreases to -0.05 $\\degree C$ and -0.63 $\\degree C$ respectively."
   ]
  },
  {
   "cell_type": "markdown",
   "id": "d44c8a87-3821-4c01-b19b-65694cd81934",
   "metadata": {},
   "source": [
    "## Geographical Analysis"
   ]
  },
  {
   "cell_type": "code",
   "execution_count": null,
   "id": "6e71198e-f8f0-441d-a46a-0a91c6bb9ad2",
   "metadata": {},
   "outputs": [],
   "source": []
  },
  {
   "cell_type": "markdown",
   "id": "b8c6567b-a92a-46d2-91c2-956bcf3f7799",
   "metadata": {},
   "source": [
    "## Forecast"
   ]
  },
  {
   "cell_type": "code",
   "execution_count": null,
   "id": "34d8498b-9173-4ed1-b4d6-dcdf7cd9150d",
   "metadata": {},
   "outputs": [],
   "source": [
    "plt.figure(figsize=(8, 6))\n",
    "np.log(merged_data[\"CO2 Concentration\"]).plot()\n",
    "plt.xlabel('Year')\n",
    "plt.ylabel('Average CO2 Concentration (ppm)')"
   ]
  },
  {
   "cell_type": "markdown",
   "id": "be57485b-6413-4dc7-8642-1032b9f16034",
   "metadata": {},
   "source": [
    "As evident from the above plot, the relationship between year and CO2 concentration is a polynomial relationship with atleast 2 degrees. Thus, we use polynomial regression to fit a model through this data and forecast the CO2 concentration in upcoming years."
   ]
  },
  {
   "cell_type": "markdown",
   "id": "20e92147-c6ec-4166-84a5-481d87ff73ba",
   "metadata": {},
   "source": [
    "### Polynomial regression"
   ]
  },
  {
   "cell_type": "code",
   "execution_count": null,
   "id": "3564878d-fc0b-416c-8173-b7c87dd568f0",
   "metadata": {},
   "outputs": [],
   "source": [
    "import numpy as np\n",
    "import matplotlib.pyplot as plt\n",
    "from sklearn.preprocessing import PolynomialFeatures\n",
    "from sklearn.linear_model import LinearRegression\n",
    "from sklearn.pipeline import make_pipeline\n",
    "from sklearn.metrics import mean_squared_error\n",
    "\n",
    "X = np.array(merged_data.index).reshape(-1, 1)\n",
    "y = merged_data['CO2 Concentration'].values\n",
    "\n",
    "# Create polynomial regression model (degree=2 for this example)\n",
    "degree = 2\n",
    "model = make_pipeline(PolynomialFeatures(degree), LinearRegression())\n",
    "model.fit(X, y)\n",
    "\n",
    "# Predictions\n",
    "y_pred = model.predict(X)\n",
    "\n",
    "# Evaluate the model\n",
    "mse = mean_squared_error(y, y_pred)\n",
    "print(f\"Mean Squared Error: {mse:.2f}\")"
   ]
  },
  {
   "cell_type": "markdown",
   "id": "6b0b8099-397a-4042-b587-a2240df752b7",
   "metadata": {},
   "source": [
    "### Hyperparameter tuning"
   ]
  },
  {
   "cell_type": "code",
   "execution_count": null,
   "id": "5c7503f9-e038-4cd5-b556-6623cfed3db4",
   "metadata": {
    "scrolled": true
   },
   "outputs": [],
   "source": [
    "from sklearn.model_selection import GridSearchCV\n",
    "from sklearn.linear_model import Ridge\n",
    "\n",
    "# Define the parameter grid\n",
    "param_grid = {\n",
    "    'polynomialfeatures__degree': range(1, 10),  # Degrees to test\n",
    "    'ridge__alpha': [0.01, 0.1, 1, 10, 100],    # Regularization strengths\n",
    "}\n",
    "\n",
    "# Create the pipeline\n",
    "pipeline = make_pipeline(PolynomialFeatures(), Ridge())\n",
    "\n",
    "# Perform grid search\n",
    "grid = GridSearchCV(pipeline, param_grid, scoring='neg_mean_squared_error', cv=5)\n",
    "grid.fit(X, y)\n",
    "\n",
    "# Best parameters and score\n",
    "print(f\"Best Parameters: {grid.best_params_}\")\n",
    "print(f\"Best Negative MSE: {grid.best_score_}\")\n"
   ]
  },
  {
   "cell_type": "code",
   "execution_count": null,
   "id": "e0ac77b3-5f39-4e83-ab73-c5d9c0972741",
   "metadata": {},
   "outputs": [],
   "source": [
    "def temp_model(co2, current_co2=180):\n",
    "    co2_percent = (co2 / current_co2 - 1) * 100\n",
    "    return simulate_temperature_change(co2_percent)\n",
    "    \n",
    "def forecast(year, co2_model, temp_model):\n",
    "\n",
    "    year_arr = np.array([year]).reshape(-1, 1)\n",
    "    co2_at_year = float(co2_model.predict(year_arr))\n",
    "    temp_at_year = temp_model(co2_at_year)\n",
    "\n",
    "    return co2_at_year, temp_at_year"
   ]
  },
  {
   "cell_type": "code",
   "execution_count": null,
   "id": "c5914ac7-702f-4ec6-9f43-036b5a2f9e48",
   "metadata": {
    "scrolled": true
   },
   "outputs": [],
   "source": [
    "co2_model = grid.best_estimator_\n",
    "\n",
    "\n",
    "# Forecasting the CO2 levels and global temperature for year 2050\n",
    "forecast(2050, co2_model, temp_model)"
   ]
  },
  {
   "cell_type": "markdown",
   "id": "051ed193-9916-4a72-8590-0308b3314c0e",
   "metadata": {},
   "source": [
    "According to the forecast, by year 2050, if the trends stay as they are, the CO2 concentrations will increase to 252 ppm, which will result in the global temperature to rise to 2.81 $\\degree C$"
   ]
  },
  {
   "cell_type": "code",
   "execution_count": null,
   "id": "c22aed33-fc58-4a5d-8f34-13fb5c58ac35",
   "metadata": {},
   "outputs": [],
   "source": [
    "x_forecast = np.arange(2022, 2050).reshape(-1, 1)\n",
    "co2_forecast = co2_model.predict(x_forecast)\n",
    "temp_forecast = [temp_model(co2) for co2 in co2_forecast]"
   ]
  },
  {
   "cell_type": "code",
   "execution_count": null,
   "id": "cd9010bb-3175-427a-97c0-06e50f4b113e",
   "metadata": {},
   "outputs": [],
   "source": [
    "plt.figure(figsize=(8, 6))\n",
    "merged_data['CO2 Concentration'].plot(marker='o')\n",
    "plt.plot(x_forecast, co2_forecast, color='gray', label = 'forecast')\n",
    "plt.title('CO2 concentration forecast till 2050')\n",
    "plt.legend()\n",
    "plt.grid()\n",
    "plt.savefig('./plots/co2_forecast.png')"
   ]
  },
  {
   "cell_type": "code",
   "execution_count": null,
   "id": "df90f483-cbf2-46c4-b8ac-6130c65808b5",
   "metadata": {},
   "outputs": [],
   "source": [
    "import numpy as np\n",
    "import matplotlib.pyplot as plt\n",
    "from sklearn.preprocessing import PolynomialFeatures\n",
    "from sklearn.linear_model import LinearRegression\n",
    "from sklearn.pipeline import make_pipeline\n",
    "from scipy.stats import t\n",
    "\n",
    "X = merged_data['CO2 Concentration'].values.reshape(-1, 1)\n",
    "y = merged_data['Temperature Change'].values\n",
    "\n",
    "# Create and fit the polynomial regression model\n",
    "degree = 4\n",
    "model = LinearRegression()\n",
    "model.fit(X, y)\n",
    "\n",
    "# Predictions\n",
    "X_pred = co2_forecast.reshape(-1, 1)  # Extend X for forecasting\n",
    "y_pred = model.predict(X_pred)\n",
    "\n",
    "# Calculate residuals\n",
    "y_train_pred = model.predict(X)\n",
    "residuals = y - y_train_pred\n",
    "n = len(y)\n",
    "p = degree + 1  # Number of predictors (including the intercept)\n",
    "\n",
    "# Standard error of the regression\n",
    "s = np.sqrt(np.sum(residuals**2) / (n - p))\n",
    "\n",
    "# Standard error of predictions\n",
    "X_poly = PolynomialFeatures(degree).fit_transform(X)\n",
    "X_pred_poly = PolynomialFeatures(degree).fit_transform(X_pred)\n",
    "se = s * np.sqrt(1 + np.sum((X_pred_poly @ np.linalg.pinv(X_poly.T @ X_poly) @ X_poly.T), axis=1))\n",
    "\n",
    "# Critical t-value for 95% confidence\n",
    "t_value = t.ppf(0.975, df=n - p)  # Two-tailed 95%\n",
    "\n",
    "# Confidence intervals\n",
    "upper_bound = y_pred + t_value * se\n",
    "lower_bound = y_pred - t_value * se\n",
    "\n",
    "# Plotting\n",
    "plt.figure(figsize=(8, 6))\n",
    "plt.scatter(X, y, label=\"Data\", color=\"blue\")\n",
    "plt.plot(X_pred, y_pred, label=\"Forecast Curve\", color=\"red\")\n",
    "plt.fill_between(X_pred.flatten(), lower_bound, upper_bound, color=\"gray\", alpha=0.2, label=\"95% Confidence Interval\")\n",
    "plt.xlabel(\"CO2 Concentration (ppm)\")\n",
    "plt.ylabel(r\"Temperature ($\\degree$C)\")\n",
    "plt.title('Temperature forecast till 2050')\n",
    "plt.legend()\n",
    "plt.grid()\n",
    "plt.savefig('./plots/temp_forecast.png')\n"
   ]
  }
 ],
 "metadata": {
  "kernelspec": {
   "display_name": "co2_cs",
   "language": "python",
   "name": "co2_cs"
  },
  "language_info": {
   "codemirror_mode": {
    "name": "ipython",
    "version": 3
   },
   "file_extension": ".py",
   "mimetype": "text/x-python",
   "name": "python",
   "nbconvert_exporter": "python",
   "pygments_lexer": "ipython3",
   "version": "3.12.4"
  }
 },
 "nbformat": 4,
 "nbformat_minor": 5
}
